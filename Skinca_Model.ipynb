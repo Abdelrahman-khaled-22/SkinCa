{
  "metadata": {
    "kernelspec": {
      "display_name": "Python 3",
      "name": "python3"
    },
    "language_info": {
      "pygments_lexer": "ipython3",
      "nbconvert_exporter": "python",
      "version": "3.6.4",
      "file_extension": ".py",
      "codemirror_mode": {
        "name": "ipython",
        "version": 3
      },
      "name": "python",
      "mimetype": "text/x-python"
    },
    "colab": {
      "provenance": [],
      "gpuType": "T4",
      "include_colab_link": true
    },
    "accelerator": "GPU"
  },
  "nbformat_minor": 0,
  "nbformat": 4,
  "cells": [
    {
      "cell_type": "markdown",
      "metadata": {
        "id": "view-in-github",
        "colab_type": "text"
      },
      "source": [
        "<a href=\"https://colab.research.google.com/github/Abdelrahman-khaled-22/SkinCa/blob/main/Skinca_Model.ipynb\" target=\"_parent\"><img src=\"https://colab.research.google.com/assets/colab-badge.svg\" alt=\"Open In Colab\"/></a>"
      ]
    },
    {
      "source": [
        "\n",
        "# IMPORTANT: RUN THIS CELL IN ORDER TO IMPORT YOUR KAGGLE DATA SOURCES\n",
        "# TO THE CORRECT LOCATION (/kaggle/input) IN YOUR NOTEBOOK,\n",
        "# THEN FEEL FREE TO DELETE THIS CELL.\n",
        "# NOTE: THIS NOTEBOOK ENVIRONMENT DIFFERS FROM KAGGLE'S PYTHON\n",
        "# ENVIRONMENT SO THERE MAY BE MISSING LIBRARIES USED BY YOUR\n",
        "# NOTEBOOK.\n",
        "\n",
        "import os\n",
        "import sys\n",
        "from tempfile import NamedTemporaryFile\n",
        "from urllib.request import urlopen\n",
        "from urllib.parse import unquote, urlparse\n",
        "from urllib.error import HTTPError\n",
        "from zipfile import ZipFile\n",
        "import tarfile\n",
        "import shutil\n",
        "\n",
        "CHUNK_SIZE = 40960\n",
        "DATA_SOURCE_MAPPING = 'skin-cancer:https%3A%2F%2Fstorage.googleapis.com%2Fkaggle-data-sets%2F3233855%2F5624756%2Fbundle%2Farchive.zip%3FX-Goog-Algorithm%3DGOOG4-RSA-SHA256%26X-Goog-Credential%3Dgcp-kaggle-com%2540kaggle-161607.iam.gserviceaccount.com%252F20240527%252Fauto%252Fstorage%252Fgoog4_request%26X-Goog-Date%3D20240527T183416Z%26X-Goog-Expires%3D259200%26X-Goog-SignedHeaders%3Dhost%26X-Goog-Signature%3D58d809ab2451bad697cd1316e4605dd1c440e20023b63e12be2be1cbec831409e055535fc2bb68911f04a69ae9674c9cde8f3f194453dbde10812fbe4c8627cd1f18c4c77f921403d41ebd40f2685b7082d5ba257e93ebad1c4ca6c729f63cfba5db4dbd478b9793179f175b9556241505cd70e9b60cf921ac76e80b3835fee8440c390dff250950c6ebc6712b98930e2542e28a0682ffc2b593e9cb603e7b54c997f6eda76bd8edfedd7fc7032c4358b63de1f478e47819fd011e9e8983c47385bc33f469aefa2282ca587ed0544a8242f8ae4f757ac39dc05d1729c5f5c97499f0165a3733779f6997440a894886ed63ddac22afd656965bc1fafc8cdcb91b'\n",
        "\n",
        "KAGGLE_INPUT_PATH='/kaggle/input'\n",
        "KAGGLE_WORKING_PATH='/kaggle/working'\n",
        "KAGGLE_SYMLINK='kaggle'\n",
        "\n",
        "!umount /kaggle/input/ 2> /dev/null\n",
        "shutil.rmtree('/kaggle/input', ignore_errors=True)\n",
        "os.makedirs(KAGGLE_INPUT_PATH, 0o777, exist_ok=True)\n",
        "os.makedirs(KAGGLE_WORKING_PATH, 0o777, exist_ok=True)\n",
        "\n",
        "try:\n",
        "  os.symlink(KAGGLE_INPUT_PATH, os.path.join(\"..\", 'input'), target_is_directory=True)\n",
        "except FileExistsError:\n",
        "  pass\n",
        "try:\n",
        "  os.symlink(KAGGLE_WORKING_PATH, os.path.join(\"..\", 'working'), target_is_directory=True)\n",
        "except FileExistsError:\n",
        "  pass\n",
        "\n",
        "for data_source_mapping in DATA_SOURCE_MAPPING.split(','):\n",
        "    directory, download_url_encoded = data_source_mapping.split(':')\n",
        "    download_url = unquote(download_url_encoded)\n",
        "    filename = urlparse(download_url).path\n",
        "    destination_path = os.path.join(KAGGLE_INPUT_PATH, directory)\n",
        "    try:\n",
        "        with urlopen(download_url) as fileres, NamedTemporaryFile() as tfile:\n",
        "            total_length = fileres.headers['content-length']\n",
        "            print(f'Downloading {directory}, {total_length} bytes compressed')\n",
        "            dl = 0\n",
        "            data = fileres.read(CHUNK_SIZE)\n",
        "            while len(data) > 0:\n",
        "                dl += len(data)\n",
        "                tfile.write(data)\n",
        "                done = int(50 * dl / int(total_length))\n",
        "                sys.stdout.write(f\"\\r[{'=' * done}{' ' * (50-done)}] {dl} bytes downloaded\")\n",
        "                sys.stdout.flush()\n",
        "                data = fileres.read(CHUNK_SIZE)\n",
        "            if filename.endswith('.zip'):\n",
        "              with ZipFile(tfile) as zfile:\n",
        "                zfile.extractall(destination_path)\n",
        "            else:\n",
        "              with tarfile.open(tfile.name) as tarfile:\n",
        "                tarfile.extractall(destination_path)\n",
        "            print(f'\\nDownloaded and uncompressed: {directory}')\n",
        "    except HTTPError as e:\n",
        "        print(f'Failed to load (likely expired) {download_url} to path {destination_path}')\n",
        "        continue\n",
        "    except OSError as e:\n",
        "        print(f'Failed to load {download_url} to path {destination_path}')\n",
        "        continue\n",
        "\n",
        "print('Data source import complete.')\n"
      ],
      "metadata": {
        "colab": {
          "base_uri": "https://localhost:8080/"
        },
        "id": "wSDj0VVwi8dZ",
        "outputId": "c150c72a-1425-4f4d-f3da-483bea878753"
      },
      "cell_type": "code",
      "outputs": [
        {
          "output_type": "stream",
          "name": "stdout",
          "text": [
            "Downloading skin-cancer, 405201731 bytes compressed\n",
            "[==================================================] 405201731 bytes downloaded\n",
            "Downloaded and uncompressed: skin-cancer\n",
            "Data source import complete.\n"
          ]
        }
      ],
      "execution_count": null
    },
    {
      "cell_type": "code",
      "source": [],
      "metadata": {
        "id": "xYjcWFB04zIG"
      },
      "execution_count": null,
      "outputs": []
    },
    {
      "cell_type": "code",
      "source": [
        "from google.colab import drive\n",
        "drive.mount('/content/drive')"
      ],
      "metadata": {
        "colab": {
          "base_uri": "https://localhost:8080/"
        },
        "id": "8KL87dZfr5D2",
        "outputId": "3b16dc7d-f62e-4963-c2c1-66a6b9fbf9b3"
      },
      "execution_count": null,
      "outputs": [
        {
          "output_type": "stream",
          "name": "stdout",
          "text": [
            "Mounted at /content/drive\n"
          ]
        }
      ]
    },
    {
      "cell_type": "code",
      "source": [
        "import numpy as np # linear algebra\n",
        "import pandas as pd # data processing, CSV file I/O (e.g. pd.read_csv)\n",
        "\n",
        "\n",
        "\n",
        "import os\n",
        "for dirname, _, filenames in os.walk('/kaggle/input'):\n",
        "    for filename in filenames:\n",
        "        os.path.join(dirname, filename)\n"
      ],
      "metadata": {
        "_uuid": "8f2839f25d086af736a60e9eeb907d3b93b6e0e5",
        "_cell_guid": "b1076dfc-b9ad-4769-8c92-a6c4dae69d19",
        "execution": {
          "iopub.status.busy": "2023-05-07T11:01:50.935926Z",
          "iopub.execute_input": "2023-05-07T11:01:50.936876Z",
          "iopub.status.idle": "2023-05-07T11:01:51.400599Z",
          "shell.execute_reply.started": "2023-05-07T11:01:50.936841Z",
          "shell.execute_reply": "2023-05-07T11:01:51.399621Z"
        },
        "trusted": true,
        "id": "YuvBlLJ7i8db"
      },
      "execution_count": null,
      "outputs": []
    },
    {
      "cell_type": "code",
      "source": [
        "import matplotlib.pyplot as plt\n",
        "import seaborn as sns\n",
        "import glob\n",
        "import cv2\n"
      ],
      "metadata": {
        "execution": {
          "iopub.status.busy": "2023-05-07T11:01:56.001194Z",
          "iopub.execute_input": "2023-05-07T11:01:56.001582Z",
          "iopub.status.idle": "2023-05-07T11:01:56.825449Z",
          "shell.execute_reply.started": "2023-05-07T11:01:56.001556Z",
          "shell.execute_reply": "2023-05-07T11:01:56.824563Z"
        },
        "trusted": true,
        "id": "41gUJ6xii8dc"
      },
      "execution_count": null,
      "outputs": []
    },
    {
      "cell_type": "code",
      "source": [
        "np.random.seed(1234)\n",
        "path='/kaggle/input/skin-cancer/skin caner'\n",
        "img_list=os.listdir(path)\n",
        "lables=[i for i in range(len(img_list))]\n",
        "label_dict=dict()\n",
        "label_dict['Normal']= 0\n",
        "label_dict['melanoma']= 1\n",
        "label_dict['nevus']= 2\n",
        "label_dict['pigmented benign keratosis']= 3"
      ],
      "metadata": {
        "execution": {
          "iopub.status.busy": "2023-05-07T11:02:11.402668Z",
          "iopub.execute_input": "2023-05-07T11:02:11.403012Z",
          "iopub.status.idle": "2023-05-07T11:02:11.409901Z",
          "shell.execute_reply.started": "2023-05-07T11:02:11.402985Z",
          "shell.execute_reply": "2023-05-07T11:02:11.408273Z"
        },
        "trusted": true,
        "id": "e13p6P8Ei8dc"
      },
      "execution_count": null,
      "outputs": []
    },
    {
      "cell_type": "code",
      "source": [
        "data=[]\n",
        "label=[]\n",
        "C=0\n",
        "for cat in img_list:\n",
        "    C=0\n",
        "    pic_list=os.path.join(path,cat)\n",
        "    for img in  os.listdir(pic_list):\n",
        "        image=os.path.join(pic_list,img)\n",
        "        if (image == \"/kaggle/input/skin-cancer/skin caner/Normal/34.avif\"):\n",
        "            continue\n",
        "        else:\n",
        "            image=cv2.imread(image)\n",
        "            image = cv2.resize(image, (224, 224))\n",
        "            data.append(image)\n",
        "            label.append(label_dict[cat])\n",
        "            C+=1\n",
        "    print(C)"
      ],
      "metadata": {
        "execution": {
          "iopub.status.busy": "2023-05-07T11:02:28.772348Z",
          "iopub.execute_input": "2023-05-07T11:02:28.773236Z",
          "iopub.status.idle": "2023-05-07T11:03:05.575008Z",
          "shell.execute_reply.started": "2023-05-07T11:02:28.773201Z",
          "shell.execute_reply": "2023-05-07T11:03:05.574011Z"
        },
        "trusted": true,
        "colab": {
          "base_uri": "https://localhost:8080/"
        },
        "id": "yw8Pcb6bi8dc",
        "outputId": "cc8c42b8-4d72-467a-da1d-8206066ad9b0"
      },
      "execution_count": null,
      "outputs": [
        {
          "output_type": "stream",
          "name": "stdout",
          "text": [
            "357\n",
            "438\n",
            "462\n",
            "403\n"
          ]
        }
      ]
    },
    {
      "cell_type": "code",
      "source": [
        "data=np.array(data)\n",
        "data.shape"
      ],
      "metadata": {
        "execution": {
          "iopub.status.busy": "2023-05-07T11:03:08.311802Z",
          "iopub.execute_input": "2023-05-07T11:03:08.312136Z",
          "iopub.status.idle": "2023-05-07T11:03:08.395439Z",
          "shell.execute_reply.started": "2023-05-07T11:03:08.31211Z",
          "shell.execute_reply": "2023-05-07T11:03:08.394413Z"
        },
        "trusted": true,
        "colab": {
          "base_uri": "https://localhost:8080/"
        },
        "id": "9nJwWeJgi8dd",
        "outputId": "7017a99a-0823-4744-b8ad-d3ad06cdd91f"
      },
      "execution_count": null,
      "outputs": [
        {
          "output_type": "execute_result",
          "data": {
            "text/plain": [
              "(1660, 224, 224, 3)"
            ]
          },
          "metadata": {},
          "execution_count": 10
        }
      ]
    },
    {
      "cell_type": "code",
      "source": [
        "label=np.array(label)\n",
        "label.shape"
      ],
      "metadata": {
        "execution": {
          "iopub.status.busy": "2023-05-07T11:03:15.752191Z",
          "iopub.execute_input": "2023-05-07T11:03:15.75254Z",
          "iopub.status.idle": "2023-05-07T11:03:15.761092Z",
          "shell.execute_reply.started": "2023-05-07T11:03:15.752515Z",
          "shell.execute_reply": "2023-05-07T11:03:15.760124Z"
        },
        "trusted": true,
        "colab": {
          "base_uri": "https://localhost:8080/"
        },
        "id": "SawlCNVsi8dd",
        "outputId": "7d3bfdc9-d27e-488a-c862-83d52316ecb9"
      },
      "execution_count": null,
      "outputs": [
        {
          "output_type": "execute_result",
          "data": {
            "text/plain": [
              "(1660,)"
            ]
          },
          "metadata": {},
          "execution_count": 11
        }
      ]
    },
    {
      "cell_type": "code",
      "source": [
        "import keras\n",
        "from keras.datasets import cifar10\n",
        "from keras.models import Model\n",
        "from keras.layers import Dense, Dropout, Activation, BatchNormalization, Flatten,Conv2D\n",
        "from keras.callbacks import ModelCheckpoint, ReduceLROnPlateau\n",
        "from keras.optimizers import Adam\n",
        "from tensorflow.keras.applications import EfficientNetB0,EfficientNetB3,vgg19\n",
        "from sklearn.model_selection import train_test_split"
      ],
      "metadata": {
        "execution": {
          "iopub.status.busy": "2023-05-07T11:05:24.931821Z",
          "iopub.execute_input": "2023-05-07T11:05:24.932159Z",
          "iopub.status.idle": "2023-05-07T11:05:31.086869Z",
          "shell.execute_reply.started": "2023-05-07T11:05:24.932132Z",
          "shell.execute_reply": "2023-05-07T11:05:31.085916Z"
        },
        "trusted": true,
        "id": "1vx7slDDi8dd"
      },
      "execution_count": null,
      "outputs": []
    },
    {
      "cell_type": "code",
      "source": [
        "num_classes = 4\n",
        "label = keras.utils.to_categorical(label, num_classes)"
      ],
      "metadata": {
        "execution": {
          "iopub.status.busy": "2023-05-07T11:05:31.088578Z",
          "iopub.execute_input": "2023-05-07T11:05:31.089329Z",
          "iopub.status.idle": "2023-05-07T11:05:31.094458Z",
          "shell.execute_reply.started": "2023-05-07T11:05:31.089285Z",
          "shell.execute_reply": "2023-05-07T11:05:31.093374Z"
        },
        "trusted": true,
        "id": "DEBRo4aXi8de"
      },
      "execution_count": null,
      "outputs": []
    },
    {
      "cell_type": "code",
      "source": [
        "model=vgg19.VGG19(include_top=True,weights=None,input_shape=(224,224,3),classes=4)"
      ],
      "metadata": {
        "execution": {
          "iopub.status.busy": "2023-05-07T11:05:32.340325Z",
          "iopub.execute_input": "2023-05-07T11:05:32.340937Z",
          "iopub.status.idle": "2023-05-07T11:05:35.764671Z",
          "shell.execute_reply.started": "2023-05-07T11:05:32.340892Z",
          "shell.execute_reply": "2023-05-07T11:05:35.763776Z"
        },
        "trusted": true,
        "id": "dHjsUTygi8de"
      },
      "execution_count": null,
      "outputs": []
    },
    {
      "cell_type": "code",
      "source": [
        "model.compile(loss='categorical_crossentropy', optimizer=Adam(0.0001),metrics=['accuracy'])"
      ],
      "metadata": {
        "execution": {
          "iopub.status.busy": "2023-05-07T11:05:38.496025Z",
          "iopub.execute_input": "2023-05-07T11:05:38.496379Z",
          "iopub.status.idle": "2023-05-07T11:05:38.514095Z",
          "shell.execute_reply.started": "2023-05-07T11:05:38.49635Z",
          "shell.execute_reply": "2023-05-07T11:05:38.513292Z"
        },
        "trusted": true,
        "id": "C4DXbxZSi8de"
      },
      "execution_count": null,
      "outputs": []
    },
    {
      "cell_type": "code",
      "source": [
        "acc=[]\n",
        "for i in range(5):\n",
        "    x_train,x_test, y_train, y_test=train_test_split(data, label, test_size=0.2,random_state = np.random.randint(1,1000, 1)[0])\n",
        "    x_train,x_valid,y_train,y_valid= train_test_split(x_train, y_train, test_size=0.1,random_state = np.random.randint(1,1000, 1)[0])\n",
        "    model.fit(x_train,y_train,validation_data=(x_valid,y_valid), epochs=15,batch_size=16,verbose=1)\n",
        "    acc.append(model.evaluate(x_test,y_test))"
      ],
      "metadata": {
        "execution": {
          "iopub.status.busy": "2023-05-07T11:05:51.172877Z",
          "iopub.execute_input": "2023-05-07T11:05:51.173231Z",
          "iopub.status.idle": "2023-05-07T11:34:00.137834Z",
          "shell.execute_reply.started": "2023-05-07T11:05:51.173203Z",
          "shell.execute_reply": "2023-05-07T11:34:00.136863Z"
        },
        "trusted": true,
        "colab": {
          "base_uri": "https://localhost:8080/"
        },
        "id": "FTGjYDsSi8de",
        "outputId": "e88549d2-18c1-44c3-a9c3-ad9458730276"
      },
      "execution_count": null,
      "outputs": [
        {
          "output_type": "stream",
          "name": "stdout",
          "text": [
            "Epoch 1/15\n",
            "75/75 [==============================] - 50s 422ms/step - loss: 1.4065 - accuracy: 0.2686 - val_loss: 1.3549 - val_accuracy: 0.4812\n",
            "Epoch 2/15\n",
            "75/75 [==============================] - 22s 299ms/step - loss: 1.3020 - accuracy: 0.3782 - val_loss: 1.2012 - val_accuracy: 0.3383\n",
            "Epoch 3/15\n",
            "75/75 [==============================] - 22s 290ms/step - loss: 1.1863 - accuracy: 0.4000 - val_loss: 0.9883 - val_accuracy: 0.5338\n",
            "Epoch 4/15\n",
            "75/75 [==============================] - 22s 294ms/step - loss: 0.9342 - accuracy: 0.5891 - val_loss: 0.9765 - val_accuracy: 0.4511\n",
            "Epoch 5/15\n",
            "75/75 [==============================] - 21s 286ms/step - loss: 0.8571 - accuracy: 0.6092 - val_loss: 0.7912 - val_accuracy: 0.6241\n",
            "Epoch 6/15\n",
            "75/75 [==============================] - 22s 289ms/step - loss: 0.6519 - accuracy: 0.7347 - val_loss: 1.1265 - val_accuracy: 0.5113\n",
            "Epoch 7/15\n",
            "75/75 [==============================] - 22s 297ms/step - loss: 0.7133 - accuracy: 0.7029 - val_loss: 0.8611 - val_accuracy: 0.6241\n",
            "Epoch 8/15\n",
            "75/75 [==============================] - 22s 287ms/step - loss: 0.5956 - accuracy: 0.7506 - val_loss: 0.6136 - val_accuracy: 0.7594\n",
            "Epoch 9/15\n",
            "75/75 [==============================] - 22s 296ms/step - loss: 0.5304 - accuracy: 0.7732 - val_loss: 0.6302 - val_accuracy: 0.7744\n",
            "Epoch 10/15\n",
            "75/75 [==============================] - 22s 288ms/step - loss: 0.5293 - accuracy: 0.7774 - val_loss: 0.8137 - val_accuracy: 0.6617\n",
            "Epoch 11/15\n",
            "75/75 [==============================] - 22s 288ms/step - loss: 0.5252 - accuracy: 0.7808 - val_loss: 1.0293 - val_accuracy: 0.7068\n",
            "Epoch 12/15\n",
            "75/75 [==============================] - 22s 287ms/step - loss: 0.5232 - accuracy: 0.7715 - val_loss: 0.8035 - val_accuracy: 0.7368\n",
            "Epoch 13/15\n",
            "75/75 [==============================] - 22s 288ms/step - loss: 0.4742 - accuracy: 0.8000 - val_loss: 0.6978 - val_accuracy: 0.7444\n",
            "Epoch 14/15\n",
            "75/75 [==============================] - 22s 288ms/step - loss: 0.4420 - accuracy: 0.8192 - val_loss: 0.6967 - val_accuracy: 0.7143\n",
            "Epoch 15/15\n",
            "75/75 [==============================] - 22s 296ms/step - loss: 0.4276 - accuracy: 0.8310 - val_loss: 0.6637 - val_accuracy: 0.7594\n",
            "11/11 [==============================] - 11s 453ms/step - loss: 0.6292 - accuracy: 0.7590\n",
            "Epoch 1/15\n",
            "75/75 [==============================] - 22s 293ms/step - loss: 0.5016 - accuracy: 0.8033 - val_loss: 0.4381 - val_accuracy: 0.8271\n",
            "Epoch 2/15\n",
            "75/75 [==============================] - 22s 298ms/step - loss: 0.5338 - accuracy: 0.8025 - val_loss: 0.4762 - val_accuracy: 0.8195\n",
            "Epoch 3/15\n",
            "75/75 [==============================] - 22s 293ms/step - loss: 0.4543 - accuracy: 0.8243 - val_loss: 0.5339 - val_accuracy: 0.7895\n",
            "Epoch 4/15\n",
            "75/75 [==============================] - 21s 287ms/step - loss: 0.4585 - accuracy: 0.8126 - val_loss: 0.4613 - val_accuracy: 0.8045\n",
            "Epoch 5/15\n",
            "75/75 [==============================] - 22s 289ms/step - loss: 0.3991 - accuracy: 0.8427 - val_loss: 0.5501 - val_accuracy: 0.7820\n",
            "Epoch 6/15\n",
            "75/75 [==============================] - 22s 295ms/step - loss: 0.3994 - accuracy: 0.8477 - val_loss: 0.4882 - val_accuracy: 0.7895\n",
            "Epoch 7/15\n",
            "75/75 [==============================] - 22s 294ms/step - loss: 0.4398 - accuracy: 0.8301 - val_loss: 0.5634 - val_accuracy: 0.7970\n",
            "Epoch 8/15\n",
            "75/75 [==============================] - 22s 287ms/step - loss: 0.3610 - accuracy: 0.8569 - val_loss: 0.4928 - val_accuracy: 0.7820\n",
            "Epoch 9/15\n",
            "75/75 [==============================] - 22s 288ms/step - loss: 0.2989 - accuracy: 0.8895 - val_loss: 0.5628 - val_accuracy: 0.7895\n",
            "Epoch 10/15\n",
            "75/75 [==============================] - 22s 288ms/step - loss: 0.2977 - accuracy: 0.8887 - val_loss: 0.6343 - val_accuracy: 0.7895\n",
            "Epoch 11/15\n",
            "75/75 [==============================] - 22s 295ms/step - loss: 0.3488 - accuracy: 0.8778 - val_loss: 0.5618 - val_accuracy: 0.7895\n",
            "Epoch 12/15\n",
            "75/75 [==============================] - 21s 286ms/step - loss: 0.3702 - accuracy: 0.8519 - val_loss: 0.5501 - val_accuracy: 0.7669\n",
            "Epoch 13/15\n",
            "75/75 [==============================] - 22s 287ms/step - loss: 0.2285 - accuracy: 0.9163 - val_loss: 0.6746 - val_accuracy: 0.7068\n",
            "Epoch 14/15\n",
            "75/75 [==============================] - 22s 287ms/step - loss: 0.2565 - accuracy: 0.9029 - val_loss: 0.6154 - val_accuracy: 0.8045\n",
            "Epoch 15/15\n",
            "75/75 [==============================] - 22s 287ms/step - loss: 0.2173 - accuracy: 0.9197 - val_loss: 0.6195 - val_accuracy: 0.7820\n",
            "11/11 [==============================] - 2s 139ms/step - loss: 0.6694 - accuracy: 0.8042\n",
            "Epoch 1/15\n",
            "75/75 [==============================] - 22s 296ms/step - loss: 0.3759 - accuracy: 0.8644 - val_loss: 0.3754 - val_accuracy: 0.8947\n",
            "Epoch 2/15\n",
            "75/75 [==============================] - 21s 287ms/step - loss: 0.2641 - accuracy: 0.9038 - val_loss: 0.3969 - val_accuracy: 0.8346\n",
            "Epoch 3/15\n",
            "75/75 [==============================] - 22s 296ms/step - loss: 0.2888 - accuracy: 0.8887 - val_loss: 0.3333 - val_accuracy: 0.9023\n",
            "Epoch 4/15\n",
            "75/75 [==============================] - 21s 287ms/step - loss: 0.1953 - accuracy: 0.9322 - val_loss: 0.3424 - val_accuracy: 0.9248\n",
            "Epoch 5/15\n",
            "75/75 [==============================] - 21s 287ms/step - loss: 0.2554 - accuracy: 0.9138 - val_loss: 0.2647 - val_accuracy: 0.9098\n",
            "Epoch 6/15\n",
            "75/75 [==============================] - 22s 295ms/step - loss: 0.2101 - accuracy: 0.9138 - val_loss: 0.5267 - val_accuracy: 0.8271\n",
            "Epoch 7/15\n",
            "75/75 [==============================] - 21s 287ms/step - loss: 0.2003 - accuracy: 0.9280 - val_loss: 0.6502 - val_accuracy: 0.7744\n",
            "Epoch 8/15\n",
            "75/75 [==============================] - 21s 286ms/step - loss: 0.0819 - accuracy: 0.9757 - val_loss: 0.4418 - val_accuracy: 0.8947\n",
            "Epoch 9/15\n",
            "75/75 [==============================] - 22s 294ms/step - loss: 0.2396 - accuracy: 0.9113 - val_loss: 0.4234 - val_accuracy: 0.8346\n",
            "Epoch 10/15\n",
            "75/75 [==============================] - 21s 285ms/step - loss: 0.1660 - accuracy: 0.9372 - val_loss: 0.6184 - val_accuracy: 0.8496\n",
            "Epoch 11/15\n",
            "75/75 [==============================] - 21s 285ms/step - loss: 0.2097 - accuracy: 0.9238 - val_loss: 0.5902 - val_accuracy: 0.7820\n",
            "Epoch 12/15\n",
            "75/75 [==============================] - 21s 286ms/step - loss: 0.1424 - accuracy: 0.9448 - val_loss: 0.5546 - val_accuracy: 0.8496\n",
            "Epoch 13/15\n",
            "75/75 [==============================] - 21s 285ms/step - loss: 0.0660 - accuracy: 0.9791 - val_loss: 0.9592 - val_accuracy: 0.7669\n",
            "Epoch 14/15\n",
            "75/75 [==============================] - 21s 285ms/step - loss: 0.0786 - accuracy: 0.9782 - val_loss: 0.4477 - val_accuracy: 0.8647\n",
            "Epoch 15/15\n",
            "75/75 [==============================] - 21s 285ms/step - loss: 0.0480 - accuracy: 0.9866 - val_loss: 0.5723 - val_accuracy: 0.8421\n",
            "11/11 [==============================] - 2s 138ms/step - loss: 0.5256 - accuracy: 0.8554\n",
            "Epoch 1/15\n",
            "75/75 [==============================] - 21s 287ms/step - loss: 0.2828 - accuracy: 0.9130 - val_loss: 0.1209 - val_accuracy: 0.9699\n",
            "Epoch 2/15\n",
            "75/75 [==============================] - 22s 290ms/step - loss: 0.1037 - accuracy: 0.9657 - val_loss: 0.1591 - val_accuracy: 0.9323\n",
            "Epoch 3/15\n",
            "75/75 [==============================] - 22s 293ms/step - loss: 0.0588 - accuracy: 0.9774 - val_loss: 0.1864 - val_accuracy: 0.9398\n",
            "Epoch 4/15\n",
            "75/75 [==============================] - 21s 282ms/step - loss: 0.0611 - accuracy: 0.9808 - val_loss: 0.2415 - val_accuracy: 0.9398\n",
            "Epoch 5/15\n",
            "75/75 [==============================] - 21s 286ms/step - loss: 0.0588 - accuracy: 0.9849 - val_loss: 0.1490 - val_accuracy: 0.9398\n",
            "Epoch 6/15\n",
            "75/75 [==============================] - 21s 286ms/step - loss: 0.0929 - accuracy: 0.9682 - val_loss: 0.1612 - val_accuracy: 0.9323\n",
            "Epoch 7/15\n",
            "75/75 [==============================] - 21s 284ms/step - loss: 0.0798 - accuracy: 0.9749 - val_loss: 0.1461 - val_accuracy: 0.9248\n",
            "Epoch 8/15\n",
            "75/75 [==============================] - 21s 284ms/step - loss: 0.0102 - accuracy: 0.9983 - val_loss: 0.2285 - val_accuracy: 0.9248\n",
            "Epoch 9/15\n",
            "75/75 [==============================] - 21s 285ms/step - loss: 0.0547 - accuracy: 0.9841 - val_loss: 0.1843 - val_accuracy: 0.9474\n",
            "Epoch 10/15\n",
            "75/75 [==============================] - 21s 285ms/step - loss: 0.0213 - accuracy: 0.9950 - val_loss: 0.0998 - val_accuracy: 0.9474\n",
            "Epoch 11/15\n",
            "75/75 [==============================] - 21s 284ms/step - loss: 0.0010 - accuracy: 1.0000 - val_loss: 0.1251 - val_accuracy: 0.9624\n",
            "Epoch 12/15\n",
            "75/75 [==============================] - 22s 293ms/step - loss: 3.0625e-04 - accuracy: 1.0000 - val_loss: 0.1168 - val_accuracy: 0.9624\n",
            "Epoch 13/15\n",
            "75/75 [==============================] - 21s 285ms/step - loss: 1.8769e-04 - accuracy: 1.0000 - val_loss: 0.1123 - val_accuracy: 0.9549\n",
            "Epoch 14/15\n",
            "75/75 [==============================] - 21s 285ms/step - loss: 1.2096e-04 - accuracy: 1.0000 - val_loss: 0.1168 - val_accuracy: 0.9549\n",
            "Epoch 15/15\n",
            "75/75 [==============================] - 21s 285ms/step - loss: 7.9031e-05 - accuracy: 1.0000 - val_loss: 0.1220 - val_accuracy: 0.9624\n",
            "11/11 [==============================] - 2s 136ms/step - loss: 0.2241 - accuracy: 0.9488\n",
            "Epoch 1/15\n",
            "75/75 [==============================] - 21s 285ms/step - loss: 0.1353 - accuracy: 0.9548 - val_loss: 0.0869 - val_accuracy: 0.9699\n",
            "Epoch 2/15\n",
            "75/75 [==============================] - 22s 290ms/step - loss: 0.0434 - accuracy: 0.9866 - val_loss: 0.1866 - val_accuracy: 0.9624\n",
            "Epoch 3/15\n",
            "75/75 [==============================] - 21s 283ms/step - loss: 0.1237 - accuracy: 0.9623 - val_loss: 0.1864 - val_accuracy: 0.9474\n",
            "Epoch 4/15\n",
            "75/75 [==============================] - 22s 290ms/step - loss: 0.0457 - accuracy: 0.9816 - val_loss: 0.1906 - val_accuracy: 0.9624\n",
            "Epoch 5/15\n",
            "75/75 [==============================] - 21s 284ms/step - loss: 0.0299 - accuracy: 0.9900 - val_loss: 0.1222 - val_accuracy: 0.9549\n",
            "Epoch 6/15\n",
            "75/75 [==============================] - 21s 285ms/step - loss: 0.0779 - accuracy: 0.9715 - val_loss: 0.4976 - val_accuracy: 0.8722\n",
            "Epoch 7/15\n",
            "75/75 [==============================] - 22s 292ms/step - loss: 0.0450 - accuracy: 0.9883 - val_loss: 0.1501 - val_accuracy: 0.9549\n",
            "Epoch 8/15\n",
            "75/75 [==============================] - 21s 284ms/step - loss: 0.0240 - accuracy: 0.9900 - val_loss: 0.2355 - val_accuracy: 0.9173\n",
            "Epoch 9/15\n",
            "75/75 [==============================] - 21s 284ms/step - loss: 0.0925 - accuracy: 0.9682 - val_loss: 0.1070 - val_accuracy: 0.9624\n",
            "Epoch 10/15\n",
            "75/75 [==============================] - 21s 284ms/step - loss: 0.0036 - accuracy: 1.0000 - val_loss: 0.0500 - val_accuracy: 0.9774\n",
            "Epoch 11/15\n",
            "75/75 [==============================] - 22s 293ms/step - loss: 4.1219e-04 - accuracy: 1.0000 - val_loss: 0.0530 - val_accuracy: 0.9699\n",
            "Epoch 12/15\n",
            "75/75 [==============================] - 21s 284ms/step - loss: 1.4110e-04 - accuracy: 1.0000 - val_loss: 0.0503 - val_accuracy: 0.9699\n",
            "Epoch 13/15\n",
            "75/75 [==============================] - 21s 284ms/step - loss: 8.1056e-05 - accuracy: 1.0000 - val_loss: 0.0529 - val_accuracy: 0.9774\n",
            "Epoch 14/15\n",
            "75/75 [==============================] - 21s 284ms/step - loss: 5.1818e-05 - accuracy: 1.0000 - val_loss: 0.0550 - val_accuracy: 0.9699\n",
            "Epoch 15/15\n",
            "75/75 [==============================] - 22s 292ms/step - loss: 3.7445e-05 - accuracy: 1.0000 - val_loss: 0.0547 - val_accuracy: 0.9774\n",
            "11/11 [==============================] - 2s 136ms/step - loss: 0.1637 - accuracy: 0.9699\n"
          ]
        }
      ]
    },
    {
      "cell_type": "code",
      "source": [
        "acc"
      ],
      "metadata": {
        "execution": {
          "iopub.status.busy": "2023-05-07T11:35:26.793884Z",
          "iopub.execute_input": "2023-05-07T11:35:26.794293Z",
          "iopub.status.idle": "2023-05-07T11:35:26.802163Z",
          "shell.execute_reply.started": "2023-05-07T11:35:26.794237Z",
          "shell.execute_reply": "2023-05-07T11:35:26.801189Z"
        },
        "trusted": true,
        "colab": {
          "base_uri": "https://localhost:8080/"
        },
        "id": "9ehC81nEi8df",
        "outputId": "6f4c5dda-d7e1-4e81-9be6-d18f82742f0a"
      },
      "execution_count": null,
      "outputs": [
        {
          "output_type": "execute_result",
          "data": {
            "text/plain": [
              "[[0.6292012929916382, 0.759036123752594],\n",
              " [0.6693949699401855, 0.8042168617248535],\n",
              " [0.5255533456802368, 0.8554216623306274],\n",
              " [0.22411775588989258, 0.9487951993942261],\n",
              " [0.16370974481105804, 0.9698795080184937]]"
            ]
          },
          "metadata": {},
          "execution_count": 17
        }
      ]
    },
    {
      "cell_type": "code",
      "source": [
        "y_pred=model.predict(x_test)\n",
        "y_pred=np.argmax(y_pred, axis=1)\n",
        "y_pred"
      ],
      "metadata": {
        "execution": {
          "iopub.status.busy": "2023-05-07T11:35:35.411538Z",
          "iopub.execute_input": "2023-05-07T11:35:35.41188Z",
          "iopub.status.idle": "2023-05-07T11:35:38.284283Z",
          "shell.execute_reply.started": "2023-05-07T11:35:35.411854Z",
          "shell.execute_reply": "2023-05-07T11:35:38.283328Z"
        },
        "trusted": true,
        "colab": {
          "base_uri": "https://localhost:8080/"
        },
        "id": "8PJyZN_di8df",
        "outputId": "facd7f20-7d9d-4edd-e739-a3bd080e62dc"
      },
      "execution_count": null,
      "outputs": [
        {
          "output_type": "stream",
          "name": "stdout",
          "text": [
            "11/11 [==============================] - 2s 144ms/step\n"
          ]
        },
        {
          "output_type": "execute_result",
          "data": {
            "text/plain": [
              "array([2, 3, 3, 3, 3, 0, 0, 0, 0, 1, 0, 2, 0, 3, 3, 2, 2, 3, 2, 0, 3, 1,\n",
              "       0, 0, 1, 2, 2, 0, 2, 1, 1, 2, 1, 2, 2, 2, 3, 0, 2, 0, 2, 1, 0, 3,\n",
              "       0, 3, 0, 3, 1, 1, 0, 1, 0, 3, 1, 1, 1, 1, 1, 3, 2, 2, 3, 1, 1, 0,\n",
              "       3, 2, 0, 0, 3, 0, 0, 0, 3, 3, 3, 2, 0, 1, 3, 3, 2, 1, 3, 3, 3, 3,\n",
              "       2, 3, 2, 0, 2, 3, 3, 2, 3, 1, 1, 2, 2, 2, 2, 2, 2, 1, 1, 3, 2, 1,\n",
              "       0, 0, 1, 3, 2, 2, 3, 2, 3, 1, 1, 3, 3, 2, 3, 0, 3, 3, 3, 3, 2, 2,\n",
              "       2, 2, 1, 0, 0, 2, 0, 1, 0, 3, 2, 3, 3, 0, 3, 1, 3, 2, 2, 2, 1, 3,\n",
              "       2, 1, 2, 2, 3, 0, 0, 2, 0, 3, 1, 0, 2, 2, 0, 0, 0, 0, 3, 3, 0, 2,\n",
              "       1, 0, 1, 1, 0, 0, 2, 3, 3, 0, 3, 0, 2, 2, 2, 3, 3, 1, 3, 0, 0, 0,\n",
              "       3, 2, 0, 3, 1, 1, 3, 0, 0, 1, 0, 3, 0, 1, 1, 2, 0, 3, 1, 3, 2, 1,\n",
              "       3, 3, 1, 1, 1, 0, 2, 3, 3, 0, 1, 3, 3, 1, 2, 3, 0, 3, 3, 3, 1, 3,\n",
              "       1, 3, 1, 1, 2, 1, 0, 1, 0, 2, 2, 3, 0, 0, 1, 1, 0, 1, 3, 1, 2, 2,\n",
              "       2, 0, 1, 0, 3, 2, 3, 0, 2, 1, 1, 3, 1, 1, 0, 3, 0, 2, 1, 1, 1, 1,\n",
              "       3, 3, 2, 3, 0, 2, 2, 3, 3, 2, 2, 1, 0, 1, 2, 3, 3, 3, 1, 3, 2, 2,\n",
              "       3, 0, 1, 1, 0, 3, 3, 0, 1, 3, 1, 0, 2, 2, 1, 1, 1, 1, 3, 1, 2, 0,\n",
              "       3, 3])"
            ]
          },
          "metadata": {},
          "execution_count": 18
        }
      ]
    },
    {
      "cell_type": "code",
      "source": [
        "y_test=np.argmax(y_test, axis=1)"
      ],
      "metadata": {
        "execution": {
          "iopub.status.busy": "2023-05-07T11:36:22.179366Z",
          "iopub.execute_input": "2023-05-07T11:36:22.179704Z",
          "iopub.status.idle": "2023-05-07T11:36:22.185451Z",
          "shell.execute_reply.started": "2023-05-07T11:36:22.179677Z",
          "shell.execute_reply": "2023-05-07T11:36:22.184328Z"
        },
        "trusted": true,
        "id": "PQeLmocbi8df"
      },
      "execution_count": null,
      "outputs": []
    },
    {
      "cell_type": "code",
      "source": [
        "from sklearn.metrics import *\n",
        "print(classification_report(y_test, y_pred))"
      ],
      "metadata": {
        "execution": {
          "iopub.status.busy": "2023-05-07T11:36:24.77446Z",
          "iopub.execute_input": "2023-05-07T11:36:24.774792Z",
          "iopub.status.idle": "2023-05-07T11:36:24.790673Z",
          "shell.execute_reply.started": "2023-05-07T11:36:24.774767Z",
          "shell.execute_reply": "2023-05-07T11:36:24.789784Z"
        },
        "trusted": true,
        "colab": {
          "base_uri": "https://localhost:8080/"
        },
        "id": "DZQsOpYGi8df",
        "outputId": "85ecbd44-b821-44d8-966b-3a29c3b628a0"
      },
      "execution_count": null,
      "outputs": [
        {
          "output_type": "stream",
          "name": "stdout",
          "text": [
            "              precision    recall  f1-score   support\n",
            "\n",
            "           0       0.99      1.00      0.99        75\n",
            "           1       1.00      0.94      0.97        85\n",
            "           2       0.94      0.95      0.94        78\n",
            "           3       0.96      0.99      0.97        94\n",
            "\n",
            "    accuracy                           0.97       332\n",
            "   macro avg       0.97      0.97      0.97       332\n",
            "weighted avg       0.97      0.97      0.97       332\n",
            "\n"
          ]
        }
      ]
    },
    {
      "cell_type": "code",
      "source": [
        "cm = confusion_matrix(y_test, y_pred)\n",
        "print(cm)"
      ],
      "metadata": {
        "execution": {
          "iopub.status.busy": "2023-05-07T11:38:27.142468Z",
          "iopub.execute_input": "2023-05-07T11:38:27.142792Z",
          "iopub.status.idle": "2023-05-07T11:38:27.151986Z",
          "shell.execute_reply.started": "2023-05-07T11:38:27.142767Z",
          "shell.execute_reply": "2023-05-07T11:38:27.150709Z"
        },
        "trusted": true,
        "colab": {
          "base_uri": "https://localhost:8080/"
        },
        "id": "Sa8VgWNmi8df",
        "outputId": "b99eeeff-728d-4cb5-c60b-56c12b5a979e"
      },
      "execution_count": null,
      "outputs": [
        {
          "output_type": "stream",
          "name": "stdout",
          "text": [
            "[[75  0  0  0]\n",
            " [ 1 80  4  0]\n",
            " [ 0  0 74  4]\n",
            " [ 0  0  1 93]]\n"
          ]
        }
      ]
    },
    {
      "cell_type": "code",
      "source": [
        "sns.heatmap(cm,annot=True,fmt='.1f')"
      ],
      "metadata": {
        "execution": {
          "iopub.status.busy": "2023-05-07T11:38:40.397778Z",
          "iopub.execute_input": "2023-05-07T11:38:40.398124Z",
          "iopub.status.idle": "2023-05-07T11:38:40.691164Z",
          "shell.execute_reply.started": "2023-05-07T11:38:40.398098Z",
          "shell.execute_reply": "2023-05-07T11:38:40.690178Z"
        },
        "trusted": true,
        "colab": {
          "base_uri": "https://localhost:8080/",
          "height": 448
        },
        "id": "watQehkvi8df",
        "outputId": "616e2c34-52a1-4711-bd4f-4965b5c2500b"
      },
      "execution_count": null,
      "outputs": [
        {
          "output_type": "execute_result",
          "data": {
            "text/plain": [
              "<Axes: >"
            ]
          },
          "metadata": {},
          "execution_count": 22
        },
        {
          "output_type": "display_data",
          "data": {
            "text/plain": [
              "<Figure size 640x480 with 2 Axes>"
            ],
            "image/png": "[encoded data removed]"
          },
          "metadata": {}
        }
      ]
    },
    {
      "cell_type": "code",
      "source": [
        "model.save(\"cancer_detection_using_VGG19.h5\")"
      ],
      "metadata": {
        "execution": {
          "iopub.status.busy": "2023-05-07T11:40:29.654947Z",
          "iopub.execute_input": "2023-05-07T11:40:29.655322Z",
          "iopub.status.idle": "2023-05-07T11:40:34.602096Z",
          "shell.execute_reply.started": "2023-05-07T11:40:29.655286Z",
          "shell.execute_reply": "2023-05-07T11:40:34.601115Z"
        },
        "trusted": true,
        "id": "NgLetoR3i8df"
      },
      "execution_count": null,
      "outputs": []
    },
    {
      "cell_type": "code",
      "source": [
        "from IPython.display import FileLink\n",
        "FileLink(r'cancer_detection_using_VGG19.h5')"
      ],
      "metadata": {
        "execution": {
          "iopub.status.busy": "2023-05-07T11:40:37.709326Z",
          "iopub.execute_input": "2023-05-07T11:40:37.710031Z",
          "iopub.status.idle": "2023-05-07T11:40:37.717378Z",
          "shell.execute_reply.started": "2023-05-07T11:40:37.709986Z",
          "shell.execute_reply": "2023-05-07T11:40:37.716468Z"
        },
        "trusted": true,
        "colab": {
          "base_uri": "https://localhost:8080/",
          "height": 34
        },
        "id": "mS-xHVMai8df",
        "outputId": "6a141457-19fb-4ef2-ba59-cb66a74c6c47"
      },
      "execution_count": null,
      "outputs": [
        {
          "output_type": "execute_result",
          "data": {
            "text/plain": [
              "/content/cancer_detection_using_VGG19.h5"
            ],
            "text/html": [
              "<a href='cancer_detection_using_VGG19.h5' target='_blank'>cancer_detection_using_VGG19.h5</a><br>"
            ]
          },
          "metadata": {},
          "execution_count": 27
        }
      ]
    }
  ]
}